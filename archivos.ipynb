{
 "cells": [
  {
   "cell_type": "markdown",
   "metadata": {},
   "source": [
    "# Manipulación de archivos\n",
    "+ Función open(): Recibe dos parámetros: El nombre del archivo y qué quiero hacer con él.\n",
    "+ \"w\" = Creo un nuevo archivo o sobrescribo un archivo ya existente.\n",
    "+ \"a\" = Agrego contenido en un archivo ya existente sin modificar lo que contiene. A diferencia de \"w\", este no reemplaza su contenido original.\n",
    "+ \"r\" = Leer lo que contiene el archivo.\n",
    "+ \"+r\" = Leer y sobrescribir el archivo ya existente."
   ]
  },
  {
   "cell_type": "code",
   "execution_count": 2,
   "metadata": {},
   "outputs": [],
   "source": [
    "archivo = open('nuevo_archivo.txt', 'w')"
   ]
  },
  {
   "cell_type": "markdown",
   "metadata": {},
   "source": [
    "+ Almacenar en una variable el contenido de un archivo.\n",
    "+ .readlines() = Lee el contenido línea por línea y lo almacena en una variable.\n",
    "+ .read() = Lee el contenido completo y lo almacena en una variable."
   ]
  },
  {
   "cell_type": "code",
   "execution_count": null,
   "metadata": {},
   "outputs": [],
   "source": [
    "contenido = archivo.readlines()\n",
    "contenido = archivo.read()"
   ]
  },
  {
   "cell_type": "markdown",
   "metadata": {},
   "source": [
    "+ Agregando una línea de texto a un archivo."
   ]
  },
  {
   "cell_type": "code",
   "execution_count": 4,
   "metadata": {},
   "outputs": [
    {
     "data": {
      "text/plain": [
       "4"
      ]
     },
     "execution_count": 4,
     "metadata": {},
     "output_type": "execute_result"
    }
   ],
   "source": [
    "archivo = open('nuevo_archivo.txt','a')\n",
    "archivo.write('Hola')"
   ]
  },
  {
   "cell_type": "code",
   "execution_count": 11,
   "metadata": {},
   "outputs": [
    {
     "name": "stdout",
     "output_type": "stream",
     "text": [
      "HolaHola\n",
      "<class 'str'>\n"
     ]
    }
   ],
   "source": [
    "archivo = open('nuevo_archivo.txt','r')\n",
    "leer = archivo.read()\n",
    "print(leer)\n",
    "print(type(leer))"
   ]
  },
  {
   "cell_type": "markdown",
   "metadata": {},
   "source": [
    "+ Cerrar un archivo al terminar de manipularlo para que no ocupe espacio en memoria."
   ]
  },
  {
   "cell_type": "code",
   "execution_count": null,
   "metadata": {},
   "outputs": [],
   "source": [
    "archivo.close()"
   ]
  },
  {
   "cell_type": "markdown",
   "metadata": {},
   "source": [
    "+ Función: Leer archivos."
   ]
  },
  {
   "cell_type": "code",
   "execution_count": 12,
   "metadata": {},
   "outputs": [],
   "source": [
    "def leer_archivo(nombre_archivo): #Recibe como parámetro el nombre de un archivo\n",
    "    try:\n",
    "        archivo = open(nombre_archivo, 'r') #Abre el archivo en modo lectura\n",
    "        contenido = archivo.read() #Almacena todo el contenido del archivo en la variable \"contenido\" \n",
    "        archivo.close() #Cierra el archivo una vez que está almacenado en una variable\n",
    "        return contenido #Retorna el contenido del archivo\n",
    "    except FileNotFoundError:\n",
    "        return 'El archivo no existe' #Si no se encuentra el archivo, genera una excepción y un mensaje"
   ]
  },
  {
   "cell_type": "code",
   "execution_count": null,
   "metadata": {},
   "outputs": [],
   "source": [
    "mi_archivo = 'archivo.txt' #Creo el nombre del archivo\n",
    "contenido = leer_archivo(mi_archivo) #Almaceno la lectura en una variable\n",
    "print(f'Contenido del archivo:  {contenido}') #Imprimo el contenido que contiene la variable\n"
   ]
  }
 ],
 "metadata": {
  "kernelspec": {
   "display_name": "Python 3.8.9 64-bit",
   "language": "python",
   "name": "python3"
  },
  "language_info": {
   "codemirror_mode": {
    "name": "ipython",
    "version": 3
   },
   "file_extension": ".py",
   "mimetype": "text/x-python",
   "name": "python",
   "nbconvert_exporter": "python",
   "pygments_lexer": "ipython3",
   "version": "3.8.9"
  },
  "orig_nbformat": 4,
  "vscode": {
   "interpreter": {
    "hash": "44c4f38e285b8bb4a0d7d6c1a5057dea98144049ee050a3afa8925692303b023"
   }
  }
 },
 "nbformat": 4,
 "nbformat_minor": 2
}

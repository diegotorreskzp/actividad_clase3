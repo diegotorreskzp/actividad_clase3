{
 "cells": [
  {
   "cell_type": "markdown",
   "metadata": {},
   "source": [
    "+ Creando una clase"
   ]
  },
  {
   "cell_type": "code",
   "execution_count": 21,
   "metadata": {},
   "outputs": [
    {
     "name": "stdout",
     "output_type": "stream",
     "text": [
      "Hola mi nombre es Diego\n"
     ]
    }
   ],
   "source": [
    "class Persona:\n",
    "    piernas = 2\n",
    "    brazos = 2\n",
    "    def __init__(self, nombre):\n",
    "        self.nombre = nombre\n",
    "#Siempre que hago una función dentro de una clase, se denomina 'método' y va acompañado del parámetro self.\n",
    "    def mifuncion(self):\n",
    "        print(f'Hola mi nombre es {self.nombre}')\n",
    "        #Este método imprime  el nombre de la persona.\n",
    "\n",
    "persona1 = Persona('Diego')\n",
    "persona1.mifuncion()"
   ]
  },
  {
   "cell_type": "markdown",
   "metadata": {},
   "source": [
    "2. Crear la clase base 'Vehículo' con los siguientes atributos:\n",
    "+ Marca\n",
    "+ Modelo\n",
    "+ Incluir un constructor que inicialice los atributos."
   ]
  },
  {
   "cell_type": "code",
   "execution_count": 4,
   "metadata": {},
   "outputs": [],
   "source": [
    "class Vehiculo():\n",
    "    def __init__(self, marca, modelo):\n",
    "        self.marca = marca\n",
    "        self.modelo = modelo\n"
   ]
  },
  {
   "cell_type": "markdown",
   "metadata": {},
   "source": [
    "3. Crear la base 'Animal' con los siguientes atributos:\n",
    "+ Nombre\n",
    "+ Edad\n",
    "+ Especie\n",
    "+ Incluir un constructor que inicialice los atributos."
   ]
  },
  {
   "cell_type": "code",
   "execution_count": 3,
   "metadata": {},
   "outputs": [],
   "source": [
    "class Animal:\n",
    "    def __init__(self, nombre, edad, especie):\n",
    "        self.nombre = nombre\n",
    "        self.edad = edad\n",
    "        self.especie = especie"
   ]
  },
  {
   "cell_type": "markdown",
   "metadata": {},
   "source": [
    "4. Crea una clase \"Estudiante\" que herede de \"Persona\" y tenga un atributo adicional \"escuela\". Agrega métodos para imprimir la información del estudiante."
   ]
  },
  {
   "cell_type": "code",
   "execution_count": 22,
   "metadata": {},
   "outputs": [
    {
     "name": "stdout",
     "output_type": "stream",
     "text": [
      "Estoy estudiando\n"
     ]
    }
   ],
   "source": [
    "class Estudiante(Persona):\n",
    "    materia = 'Programación II'\n",
    "    def __init__(self, nombre, escuela):\n",
    "        super().__init__(nombre)\n",
    "        self.escuela = escuela\n",
    "    \n",
    "    def estudiar(self):\n",
    "        print('Estoy estudiando')\n",
    "\n",
    "estudiante1 = Estudiante('Diego', 'Cent 35')\n",
    "estudiante1.estudiar()"
   ]
  }
 ],
 "metadata": {
  "kernelspec": {
   "display_name": "Python 3.8.9 64-bit",
   "language": "python",
   "name": "python3"
  },
  "language_info": {
   "codemirror_mode": {
    "name": "ipython",
    "version": 3
   },
   "file_extension": ".py",
   "mimetype": "text/x-python",
   "name": "python",
   "nbconvert_exporter": "python",
   "pygments_lexer": "ipython3",
   "version": "3.8.9"
  },
  "orig_nbformat": 4,
  "vscode": {
   "interpreter": {
    "hash": "44c4f38e285b8bb4a0d7d6c1a5057dea98144049ee050a3afa8925692303b023"
   }
  }
 },
 "nbformat": 4,
 "nbformat_minor": 2
}

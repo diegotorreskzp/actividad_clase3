{
 "cells": [
  {
   "cell_type": "markdown",
   "metadata": {},
   "source": [
    "+ Creo dos listas vacías."
   ]
  },
  {
   "cell_type": "code",
   "execution_count": 33,
   "metadata": {},
   "outputs": [],
   "source": [
    "lista_libro = []\n",
    "lista_autor = []"
   ]
  },
  {
   "cell_type": "markdown",
   "metadata": {},
   "source": [
    "+ Creo una función que agrega libros."
   ]
  },
  {
   "cell_type": "code",
   "execution_count": 34,
   "metadata": {},
   "outputs": [],
   "source": [
    "def agregar():\n",
    "    libro = input('Ingrese el nombre del libro: ')\n",
    "    lista_libro.append(libro)\n",
    "    autor = input('Ingrese el nombre del autor: ')\n",
    "    lista_autor.append(autor)\n",
    "    print(f'Libros: {lista_libro}\\nAutor: {lista_autor}')"
   ]
  },
  {
   "cell_type": "markdown",
   "metadata": {},
   "source": [
    "+ Creo una función que muestre opciones de continuar."
   ]
  },
  {
   "cell_type": "code",
   "execution_count": 38,
   "metadata": {},
   "outputs": [],
   "source": [
    "def opciones():\n",
    "    try:\n",
    "        continuar = int(input('Ingresa [1] para añadir más libros.\\nIngresa [2] para salir.'))\n",
    "        if continuar == 1:\n",
    "            agregar()\n",
    "        if continuar == 2:\n",
    "            print('Has salido del sistema')\n",
    "    except Exception:\n",
    "        print('Por favor, ingrese una opción válida.')\n",
    "        opciones()"
   ]
  },
  {
   "cell_type": "markdown",
   "metadata": {},
   "source": [
    "+ Creo una función que acceda al sistema."
   ]
  },
  {
   "cell_type": "code",
   "execution_count": 39,
   "metadata": {},
   "outputs": [],
   "source": [
    "def sistema():\n",
    "    ingreso = int(input('Ingrese [1] para agregar libro y autor.\\nIngrese [2] para salir del programa.'))\n",
    "    try: \n",
    "        if ingreso == 1:\n",
    "            agregar()\n",
    "        if ingreso == 2:\n",
    "            print('Has salido del sistema.')\n",
    "        else:\n",
    "            sistema()\n",
    "    except ValueError:\n",
    "            print('Por favor, ingrese una opción válida.')\n",
    "            sistema()"
   ]
  },
  {
   "cell_type": "markdown",
   "metadata": {},
   "source": [
    "+ Inicializo el programa."
   ]
  },
  {
   "cell_type": "code",
   "execution_count": 44,
   "metadata": {},
   "outputs": [
    {
     "name": "stdout",
     "output_type": "stream",
     "text": [
      "Has salido del sistema.\n"
     ]
    }
   ],
   "source": [
    "sistema()"
   ]
  }
 ],
 "metadata": {
  "kernelspec": {
   "display_name": "Python 3.8.9 64-bit",
   "language": "python",
   "name": "python3"
  },
  "language_info": {
   "codemirror_mode": {
    "name": "ipython",
    "version": 3
   },
   "file_extension": ".py",
   "mimetype": "text/x-python",
   "name": "python",
   "nbconvert_exporter": "python",
   "pygments_lexer": "ipython3",
   "version": "3.8.9"
  },
  "orig_nbformat": 4,
  "vscode": {
   "interpreter": {
    "hash": "44c4f38e285b8bb4a0d7d6c1a5057dea98144049ee050a3afa8925692303b023"
   }
  }
 },
 "nbformat": 4,
 "nbformat_minor": 2
}

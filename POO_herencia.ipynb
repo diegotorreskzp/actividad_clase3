{
 "cells": [
  {
   "cell_type": "code",
   "execution_count": 16,
   "metadata": {},
   "outputs": [],
   "source": [
    "class Animal:\n",
    "    def __init__(self, nombre, especie):\n",
    "        self.nombre = nombre\n",
    "        self.especie = especie"
   ]
  },
  {
   "cell_type": "code",
   "execution_count": 10,
   "metadata": {},
   "outputs": [],
   "source": [
    "class Vehiculo():\n",
    "    def __init__(self, marca, modelo):\n",
    "        self.marca = marca\n",
    "        self.modelo = modelo"
   ]
  },
  {
   "cell_type": "code",
   "execution_count": 3,
   "metadata": {},
   "outputs": [
    {
     "name": "stdout",
     "output_type": "stream",
     "text": [
      "Hola mi nombre es Diego\n"
     ]
    }
   ],
   "source": [
    "class Persona:\n",
    "    piernas = 2\n",
    "    brazos = 2\n",
    "    def __init__(self, nombre):\n",
    "        self.nombre = nombre\n",
    "    def mifuncion(self):\n",
    "        print(f'Hola mi nombre es {self.nombre}')\n",
    "\n",
    "persona1 = Persona('Diego')\n",
    "persona1.mifuncion()"
   ]
  },
  {
   "cell_type": "markdown",
   "metadata": {},
   "source": [
    "5. Crea una clase \"Empleado\" que herede de \"Persona\" y tenga atributos adicionales como \"empresa\" y \"puesto\". Agrega métodos para imprimir la información del empleado."
   ]
  },
  {
   "cell_type": "code",
   "execution_count": 9,
   "metadata": {},
   "outputs": [
    {
     "name": "stdout",
     "output_type": "stream",
     "text": [
      "Hola me llamo Diego, trabajo en Prosperity SA y soy organizador\n"
     ]
    },
    {
     "data": {
      "text/plain": [
       "2"
      ]
     },
     "execution_count": 9,
     "metadata": {},
     "output_type": "execute_result"
    }
   ],
   "source": [
    "class Empleado(Persona):\n",
    "    def __init__(self, nombre, empresa, puesto):\n",
    "        super().__init__(nombre)\n",
    "        self.empresa = empresa\n",
    "        self.puesto = puesto\n",
    "    def infoempleado(self):\n",
    "        print(f'Hola me llamo {self.nombre}, trabajo en {self.empresa} y soy {self.puesto}')\n",
    "\n",
    "persona2 = Empleado('Diego', 'Prosperity SA', 'organizador')\n",
    "persona2.infoempleado()"
   ]
  },
  {
   "cell_type": "markdown",
   "metadata": {},
   "source": [
    "+ Crea una clase \"Coche\" que herede de \"Vehículo\" y tenga atributos adicionales como \"color\" y velocidad\". Agrega métodos para imprimir la información del coche."
   ]
  },
  {
   "cell_type": "code",
   "execution_count": 11,
   "metadata": {},
   "outputs": [
    {
     "name": "stdout",
     "output_type": "stream",
     "text": [
      "Marca: Fiat\n",
      "Modelo: Punto\n",
      "Color: Rojo\n",
      "Velocidad: 200 km/h\n"
     ]
    }
   ],
   "source": [
    "class Coche(Vehiculo):\n",
    "    def __init__(self, marca, modelo, color, velocidad):\n",
    "        super().__init__(marca, modelo)\n",
    "        self.color = color\n",
    "        self.velocidad = velocidad\n",
    "    def infocoche(self):\n",
    "        print(f'Marca: {self.marca}\\nModelo: {self.modelo}\\nColor: {self.color}\\nVelocidad: {self.velocidad}')\n",
    "\n",
    "coche1 = Coche('Fiat','Punto','Rojo','200 km/h')\n",
    "coche1.infocoche()"
   ]
  },
  {
   "cell_type": "markdown",
   "metadata": {},
   "source": [
    "+ Crea una clase \"Perro\" que herede de \"Animal\" y tenga un atributo adicional \"raza\". Agrega métodos para imprimir la información del perro."
   ]
  },
  {
   "cell_type": "code",
   "execution_count": 17,
   "metadata": {},
   "outputs": [
    {
     "name": "stdout",
     "output_type": "stream",
     "text": [
      "Animal: Perro\n",
      "Especie: Mamífero\n",
      "Raza: Golden\n"
     ]
    }
   ],
   "source": [
    "class Perro(Animal):\n",
    "    def __init__(self, nombre, especie, raza):\n",
    "        super().__init__(nombre, especie)\n",
    "        self.raza = raza\n",
    "    def infoperro(self):\n",
    "        print(f'Animal: {self.nombre}\\nEspecie: {self.especie}\\nRaza: {self.raza}')\n",
    "\n",
    "perro = Perro('Perro','Mamífero','Golden')\n",
    "perro.infoperro()"
   ]
  },
  {
   "cell_type": "markdown",
   "metadata": {},
   "source": [
    "+ Crea una clase \"Camioneta\" que herede de \"Vehículo\" y tenga atributos adicionales como \"capacidad_carga\". Agrega métodos para imprimir la información de la camioneta."
   ]
  },
  {
   "cell_type": "code",
   "execution_count": 19,
   "metadata": {},
   "outputs": [
    {
     "name": "stdout",
     "output_type": "stream",
     "text": [
      "Marca: Hilux\n",
      "Modelo: 2024\n",
      "Capacidad de Carga: 1000 kg\n"
     ]
    }
   ],
   "source": [
    "class Camioneta(Vehiculo):\n",
    "    def __init__(self, marca, modelo, capacidad_carga):\n",
    "        super().__init__(marca, modelo)\n",
    "        self.capacidad_carga = capacidad_carga\n",
    "    def infocamioneta(self):\n",
    "        print(f'Marca: {self.marca}\\nModelo: {self.modelo}\\nCapacidad de Carga: {self.capacidad_carga}')\n",
    "camioneta1 = Camioneta('Hilux',  '2024', '1000 kg')\n",
    "camioneta1.infocamioneta()"
   ]
  },
  {
   "cell_type": "markdown",
   "metadata": {},
   "source": [
    "+ Crea una clase \"Profesor\" que herede de \"Empleado\" y tenga atributos adicionales como \"materia\" y \"experiencia\". Agrega métodos para imprimir la información del profesor."
   ]
  },
  {
   "cell_type": "code",
   "execution_count": 20,
   "metadata": {},
   "outputs": [
    {
     "name": "stdout",
     "output_type": "stream",
     "text": [
      "Nombre: Omar\n",
      "Empresa: Cent 35\n",
      "Puesto: Profesor\n",
      "Materia: Programación\n",
      "Experiencia: 10 años\n"
     ]
    }
   ],
   "source": [
    "class Profesor(Empleado):\n",
    "    def __init__(self, nombre, empresa, puesto, materia, experiencia):\n",
    "        super().__init__(nombre, empresa, puesto)\n",
    "        self.materia = materia\n",
    "        self.experiencia = experiencia\n",
    "    def infoprofesor(self):\n",
    "        print(f'Nombre: {self.nombre}\\nEmpresa: {self.empresa}\\nPuesto: {self.puesto}\\nMateria: {self.materia}\\nExperiencia: {self.experiencia}')\n",
    "profesor1 = Profesor('Omar','Cent 35', 'Profesor', 'Programación', '10 años')\n",
    "profesor1.infoprofesor()"
   ]
  },
  {
   "cell_type": "markdown",
   "metadata": {},
   "source": [
    "+ Crea una clase \"Motocicleta\" que herede de \"Vehículo\" y tenga atributos adicionales como \"cilindrada\". Agrega métodos para imprimir la información de la motocicleta."
   ]
  },
  {
   "cell_type": "code",
   "execution_count": 21,
   "metadata": {},
   "outputs": [
    {
     "name": "stdout",
     "output_type": "stream",
     "text": [
      "Marca: Suzuki\n",
      "Modelo: 2023\n",
      "Cilindrada: 300\n"
     ]
    }
   ],
   "source": [
    "class Motocicleta(Vehiculo):\n",
    "    def __init__(self,marca,modelo,cilindrada):\n",
    "        super().__init__(marca,modelo)\n",
    "        self.cilindrada = cilindrada\n",
    "    def infomotocicleta(self):\n",
    "        print(f'Marca: {self.marca}\\nModelo: {self.modelo}\\nCilindrada: {self.cilindrada}')\n",
    "motocicleta1 = Motocicleta('Suzuki', 2023, '300')\n",
    "motocicleta1.infomotocicleta()"
   ]
  },
  {
   "cell_type": "markdown",
   "metadata": {},
   "source": [
    "+ Crea una clase \"Ave\" que herede de \"Animal\" y tenga atributos adicionales como \"hábitat\". Agrega métodos para imprimir la información del ave. "
   ]
  },
  {
   "cell_type": "code",
   "execution_count": 22,
   "metadata": {},
   "outputs": [
    {
     "name": "stdout",
     "output_type": "stream",
     "text": [
      "Nombre: Ave\n",
      "Especie: Águila\n",
      "Habitat: Bosque\n"
     ]
    }
   ],
   "source": [
    "class Ave(Animal):\n",
    "    def __init__(self, nombre, especie, habitat):\n",
    "        super().__init__(nombre,especie)\n",
    "        self.habitat = habitat\n",
    "    def infoave(self):\n",
    "        print(f'Nombre: {self.nombre}\\nEspecie: {self.especie}\\nHabitat: {self.habitat}')\n",
    "ave1 = Ave('Ave', 'Águila','Bosque')\n",
    "ave1.infoave()"
   ]
  },
  {
   "cell_type": "markdown",
   "metadata": {},
   "source": [
    "+ Crea una clase \"Cliente\" que herede de \"Persona\" y tenga atributos adicionales como \"dirección\" y \"teléfono\". Agrega métodos para imprimir la información del cliente."
   ]
  },
  {
   "cell_type": "code",
   "execution_count": 25,
   "metadata": {},
   "outputs": [
    {
     "name": "stdout",
     "output_type": "stream",
     "text": [
      "Nombre: Diego\n",
      "Direccion: Cámpora\n",
      "Teléfono: 2964592053\n"
     ]
    }
   ],
   "source": [
    "class Cliente(Persona):\n",
    "    def __init__(self, nombre, direccion, telefono):\n",
    "        super().__init__(nombre)\n",
    "        self.direccion = direccion\n",
    "        self.telefono = telefono\n",
    "    def infocliente(self):\n",
    "        print(f'Nombre: {self.nombre}\\nDireccion: {self.direccion}\\nTeléfono: {self.telefono}')\n",
    "cliente1 = Cliente('Diego','Cámpora', 2964592053)\n",
    "cliente1.infocliente()"
   ]
  },
  {
   "cell_type": "markdown",
   "metadata": {},
   "source": [
    "+ Crea una clase \"Bicicleta\" que herede de \"Vehículo\" y tenga atributos adicionales como \"tipo\"."
   ]
  },
  {
   "cell_type": "code",
   "execution_count": 26,
   "metadata": {},
   "outputs": [
    {
     "name": "stdout",
     "output_type": "stream",
     "text": [
      "Marca: BMX\n",
      "Modelo: 2020\n",
      "Tipo: Salto\n"
     ]
    }
   ],
   "source": [
    "class Bicicleta(Vehiculo):\n",
    "    def __init__(self, marca, modelo, tipo):\n",
    "        super().__init__(marca, modelo)\n",
    "        self.tipo = tipo\n",
    "    def infobicicleta(self):\n",
    "        print(f'Marca: {self.marca}\\nModelo: {self.modelo}\\nTipo: {self.tipo}')\n",
    "bicicleta1 = Bicicleta('BMX',2020,'Salto')\n",
    "bicicleta1.infobicicleta()"
   ]
  }
 ],
 "metadata": {
  "kernelspec": {
   "display_name": "Python 3.8.9 64-bit",
   "language": "python",
   "name": "python3"
  },
  "language_info": {
   "codemirror_mode": {
    "name": "ipython",
    "version": 3
   },
   "file_extension": ".py",
   "mimetype": "text/x-python",
   "name": "python",
   "nbconvert_exporter": "python",
   "pygments_lexer": "ipython3",
   "version": "3.8.9"
  },
  "orig_nbformat": 4,
  "vscode": {
   "interpreter": {
    "hash": "44c4f38e285b8bb4a0d7d6c1a5057dea98144049ee050a3afa8925692303b023"
   }
  }
 },
 "nbformat": 4,
 "nbformat_minor": 2
}

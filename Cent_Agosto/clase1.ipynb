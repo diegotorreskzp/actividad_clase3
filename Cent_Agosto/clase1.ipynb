{
 "cells": [
  {
   "cell_type": "markdown",
   "metadata": {},
   "source": [
    "+ Número incógnita. El usuario no sabe qué número es.\n",
    "+ Por cada intento, se le suma 1 al número oculto.\n",
    "+ Ese número lo tenemos que guardar y ver cómo hacemos para que este se frene y vuelva a iniciar\n",
    "al número original.\n",
    "+ Elegimos el reinicio.\n",
    "+ Imprimir el resultado si acierta."
   ]
  },
  {
   "cell_type": "markdown",
   "metadata": {},
   "source": []
  },
  {
   "cell_type": "code",
   "execution_count": 2,
   "metadata": {},
   "outputs": [],
   "source": [
    "num_adivinar = 15\n",
    "limite = 20\n",
    "num_usuario = input('Ingrese un número: ')\n",
    "if num_usuario != num_adivinar:\n",
    "    num_adivinar = num_adivinar+1\n",
    "    if num_adivinar == limite:\n",
    "        num_adivinar = 15\n",
    "else:\n",
    "    print('Has acertado el número.')"
   ]
  },
  {
   "cell_type": "markdown",
   "metadata": {},
   "source": []
  }
 ],
 "metadata": {
  "kernelspec": {
   "display_name": "Python 3.8.9 64-bit",
   "language": "python",
   "name": "python3"
  },
  "language_info": {
   "codemirror_mode": {
    "name": "ipython",
    "version": 3
   },
   "file_extension": ".py",
   "mimetype": "text/x-python",
   "name": "python",
   "nbconvert_exporter": "python",
   "pygments_lexer": "ipython3",
   "version": "3.8.9"
  },
  "orig_nbformat": 4,
  "vscode": {
   "interpreter": {
    "hash": "44c4f38e285b8bb4a0d7d6c1a5057dea98144049ee050a3afa8925692303b023"
   }
  }
 },
 "nbformat": 4,
 "nbformat_minor": 2
}

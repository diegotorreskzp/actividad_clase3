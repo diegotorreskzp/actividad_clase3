{
 "cells": [
  {
   "cell_type": "markdown",
   "metadata": {},
   "source": [
    "+ max() y min(): Devuelve el valor máximo o mínimo de una secuencia."
   ]
  },
  {
   "cell_type": "code",
   "execution_count": 1,
   "metadata": {},
   "outputs": [
    {
     "name": "stdout",
     "output_type": "stream",
     "text": [
      "30\n"
     ]
    }
   ],
   "source": [
    "mi_lista = [10, 20, 30]\n",
    "maximo = max(mi_lista)\n",
    "print(maximo)"
   ]
  },
  {
   "cell_type": "markdown",
   "metadata": {},
   "source": [
    "+ Redondeo a decimales"
   ]
  },
  {
   "cell_type": "code",
   "execution_count": 9,
   "metadata": {},
   "outputs": [
    {
     "name": "stdout",
     "output_type": "stream",
     "text": [
      "4.156\n"
     ]
    }
   ],
   "source": [
    "numero = 4.15555555\n",
    "numero_redondo = round(numero,3)\n",
    "print(numero_redondo)"
   ]
  },
  {
   "cell_type": "markdown",
   "metadata": {},
   "source": [
    "+ Suma todos los elementos de un iterable."
   ]
  },
  {
   "cell_type": "code",
   "execution_count": 10,
   "metadata": {},
   "outputs": [
    {
     "name": "stdout",
     "output_type": "stream",
     "text": [
      "12\n"
     ]
    }
   ],
   "source": [
    "numeros = [2, 4, 6]\n",
    "suma = sum(numeros)\n",
    "print(suma)"
   ]
  },
  {
   "cell_type": "markdown",
   "metadata": {},
   "source": [
    "+ zip(): Combina dos o más secuencias en tuplas"
   ]
  },
  {
   "cell_type": "code",
   "execution_count": 11,
   "metadata": {},
   "outputs": [
    {
     "name": "stdout",
     "output_type": "stream",
     "text": [
      "Diego tiene 25 años.\n",
      "Nerina tiene 24 años.\n",
      "Juan tiene 25 años.\n"
     ]
    }
   ],
   "source": [
    "nombres = ['Diego', 'Nerina', 'Juan']\n",
    "edades = [25, 24, 25]\n",
    "for nombre, edad in zip(nombres,edades):\n",
    "    print(f'{nombre} tiene {edad} años.')"
   ]
  },
  {
   "cell_type": "markdown",
   "metadata": {},
   "source": [
    "+ \"*args\" dentro de una función: Recibe cualquier número de argumentos, ya que no está definido la cantidad de parámetros."
   ]
  },
  {
   "cell_type": "code",
   "execution_count": 5,
   "metadata": {},
   "outputs": [
    {
     "data": {
      "text/plain": [
       "12"
      ]
     },
     "execution_count": 5,
     "metadata": {},
     "output_type": "execute_result"
    }
   ],
   "source": [
    "def sumar(*args):\n",
    "    total = 0\n",
    "    for num in args:\n",
    "        total =  total + num\n",
    "    return total\n",
    "\n",
    "\n",
    "sumar(2,4,6)"
   ]
  },
  {
   "cell_type": "markdown",
   "metadata": {},
   "source": [
    "+ Crear una función llamada \"usuario\" que reciba como parámetro un nombre y devuelva un mensaje \"Bienvenido al sistema {nombre} y llamarla."
   ]
  },
  {
   "cell_type": "code",
   "execution_count": 28,
   "metadata": {},
   "outputs": [
    {
     "name": "stdout",
     "output_type": "stream",
     "text": [
      "Bienvenido al sistema \n"
     ]
    }
   ],
   "source": [
    "def usuario(nombre:str):\n",
    "    print(f'Bienvenido al sistema {nombre}')\n",
    "\n",
    "nombre = input('Ingrese su nombre: ')\n",
    "usuario(nombre)"
   ]
  },
  {
   "cell_type": "markdown",
   "metadata": {},
   "source": [
    "+ Escribe una función que tome dos números como argumentos y devuelva su suma."
   ]
  },
  {
   "cell_type": "code",
   "execution_count": 8,
   "metadata": {},
   "outputs": [
    {
     "data": {
      "text/plain": [
       "30"
      ]
     },
     "execution_count": 8,
     "metadata": {},
     "output_type": "execute_result"
    }
   ],
   "source": [
    "def suma(num1,num2):\n",
    "    return num1+num2\n",
    "num1 = int(input('Ingrese el primer número: '))\n",
    "num2 = int(input('Ingrese el segundo número: '))\n",
    "suma(num1,num2)"
   ]
  },
  {
   "cell_type": "markdown",
   "metadata": {},
   "source": [
    "+ Crea una función que reciba dos números y una operación (suma, resta, multiplicación, división) y devuelva el resultado."
   ]
  },
  {
   "cell_type": "code",
   "execution_count": 3,
   "metadata": {},
   "outputs": [
    {
     "name": "stdout",
     "output_type": "stream",
     "text": [
      "¿Qué desea hacer?\n",
      "[1] Sumar\n",
      "[2] Restar\n",
      "[3] Multiplicar\n",
      "[4] Dividir\n",
      "\n",
      "No se puede dividir por cero.\n"
     ]
    }
   ],
   "source": [
    "def operacion(a,b):\n",
    "    print('¿Qué desea hacer?\\n[1] Sumar\\n[2] Restar\\n[3] Multiplicar\\n[4] Dividir\\n')\n",
    "    decision = int(input('Ingrese su elección: '))\n",
    "    if decision == 1:\n",
    "        return a+b\n",
    "    elif decision == 2:\n",
    "        return a-b\n",
    "    elif decision == 3:\n",
    "        return a*b\n",
    "    elif decision == 4:\n",
    "        try:\n",
    "            return int(a/b)\n",
    "        except: Exception\n",
    "        print('No se puede dividir por cero.')\n",
    "    else:\n",
    "        print('Por favor, ingrese una opción válida.')\n",
    "\n",
    "operacion(0,0)"
   ]
  },
  {
   "cell_type": "markdown",
   "metadata": {},
   "source": [
    "+ Conversor de moneda: Crea una función que convierta de pesos a dólares, que reciba como parámetros la cantidad de pesos y el valor del dólar y devuelva la cantidad de dólares."
   ]
  },
  {
   "cell_type": "code",
   "execution_count": 18,
   "metadata": {},
   "outputs": [
    {
     "name": "stdout",
     "output_type": "stream",
     "text": [
      "14.81 USD\n"
     ]
    }
   ],
   "source": [
    "def conversor(pesos):\n",
    "    dolar = 1350\n",
    "    conversion = pesos/dolar\n",
    "    redondear = round(conversion,2)\n",
    "    print(f'{redondear} USD')\n",
    "pesos = int(input('Ingrese la cantidad de pesos: '))\n",
    "conversor(pesos)"
   ]
  },
  {
   "cell_type": "markdown",
   "metadata": {},
   "source": [
    "+ Escribe una función que tome una lista de números como argumento y devuelva la suma de los números positivos y la suma de los números negativos."
   ]
  },
  {
   "cell_type": "markdown",
   "metadata": {},
   "source": []
  },
  {
   "cell_type": "code",
   "execution_count": 20,
   "metadata": {},
   "outputs": [
    {
     "name": "stdout",
     "output_type": "stream",
     "text": [
      "Suma de positivos: 10\n",
      "Suma de negativos: -4\n"
     ]
    }
   ],
   "source": [
    "def devolversuma(lista):\n",
    "    positivos = 0\n",
    "    negativos = 0\n",
    "    for numero in lista:\n",
    "        if numero > 0:\n",
    "            positivos += numero\n",
    "        elif numero < 0:\n",
    "            negativos += numero\n",
    "    print(f'Suma de positivos: {positivos}')\n",
    "    print(f'Suma de negativos: {negativos}')\n",
    "\n",
    "lista = [5,5,-2-2]\n",
    "devolversuma(lista)"
   ]
  },
  {
   "cell_type": "markdown",
   "metadata": {},
   "source": [
    "# Función LAMBDA"
   ]
  },
  {
   "cell_type": "code",
   "execution_count": 21,
   "metadata": {},
   "outputs": [
    {
     "data": {
      "text/plain": [
       "30"
      ]
     },
     "execution_count": 21,
     "metadata": {},
     "output_type": "execute_result"
    }
   ],
   "source": [
    "numero_x_3 = lambda x: x*3\n",
    "numero_x_3(10)"
   ]
  },
  {
   "cell_type": "code",
   "execution_count": 24,
   "metadata": {},
   "outputs": [
    {
     "data": {
      "text/plain": [
       "True"
      ]
     },
     "execution_count": 24,
     "metadata": {},
     "output_type": "execute_result"
    }
   ],
   "source": [
    "es_par = lambda num: num%2==0\n",
    "es_par(4)"
   ]
  }
 ],
 "metadata": {
  "kernelspec": {
   "display_name": "Python 3.8.9 64-bit",
   "language": "python",
   "name": "python3"
  },
  "language_info": {
   "codemirror_mode": {
    "name": "ipython",
    "version": 3
   },
   "file_extension": ".py",
   "mimetype": "text/x-python",
   "name": "python",
   "nbconvert_exporter": "python",
   "pygments_lexer": "ipython3",
   "version": "3.8.9"
  },
  "orig_nbformat": 4,
  "vscode": {
   "interpreter": {
    "hash": "44c4f38e285b8bb4a0d7d6c1a5057dea98144049ee050a3afa8925692303b023"
   }
  }
 },
 "nbformat": 4,
 "nbformat_minor": 2
}

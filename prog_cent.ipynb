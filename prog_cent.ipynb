{
 "cells": [
  {
   "cell_type": "markdown",
   "metadata": {},
   "source": [
    "+ Devuelve una lista de palabras de un string."
   ]
  },
  {
   "cell_type": "code",
   "execution_count": 162,
   "metadata": {},
   "outputs": [
    {
     "name": "stdout",
     "output_type": "stream",
     "text": [
      "['Soy', 'un', 'señor', 'en', 'el', 'sentido', 'señorial']\n"
     ]
    }
   ],
   "source": [
    "frase = 'Soy un señor en el sentido señorial'\n",
    "palabra = frase.split()\n",
    "print(palabra)"
   ]
  },
  {
   "cell_type": "code",
   "execution_count": 173,
   "metadata": {},
   "outputs": [
    {
     "name": "stdout",
     "output_type": "stream",
     "text": [
      "Soy\n",
      "señor\n",
      "sentido\n",
      "señorial\n"
     ]
    }
   ],
   "source": [
    "for i in palabra:\n",
    "    if i.lower().startswith(\"s\"):\n",
    "        print(i)"
   ]
  },
  {
   "cell_type": "code",
   "execution_count": 192,
   "metadata": {},
   "outputs": [
    {
     "name": "stdout",
     "output_type": "stream",
     "text": [
      "Soy\n",
      "señor\n",
      "sentido\n",
      "señorial\n"
     ]
    }
   ],
   "source": [
    "for letra in palabra:\n",
    "    if letra[0]=='s' or letra[0]=='S':\n",
    "        print(letra)"
   ]
  },
  {
   "cell_type": "code",
   "execution_count": 205,
   "metadata": {},
   "outputs": [
    {
     "name": "stdout",
     "output_type": "stream",
     "text": [
      "sueño\n"
     ]
    }
   ],
   "source": [
    "frase = \"Tengo hambre y sueño\"\n",
    "frase2 = frase.split()\n",
    "for f in frase2:\n",
    "    if f=='sueño':\n",
    "        print(f)"
   ]
  },
  {
   "cell_type": "code",
   "execution_count": 212,
   "metadata": {},
   "outputs": [],
   "source": [
    "def recorrer(frase3):\n",
    "    ingreso = input('Ingrese una palabra a buscar')\n",
    "    lista_separada = ingreso.split()\n",
    "    for separar in lista_separada:\n",
    "        if separar==ingreso:\n",
    "            print(p)\n",
    "\n",
    "lista = \"Hola como estás\"\n",
    "recorrer(lista)"
   ]
  }
 ],
 "metadata": {
  "kernelspec": {
   "display_name": "Python 3.8.9 64-bit",
   "language": "python",
   "name": "python3"
  },
  "language_info": {
   "codemirror_mode": {
    "name": "ipython",
    "version": 3
   },
   "file_extension": ".py",
   "mimetype": "text/x-python",
   "name": "python",
   "nbconvert_exporter": "python",
   "pygments_lexer": "ipython3",
   "version": "3.8.9"
  },
  "orig_nbformat": 4,
  "vscode": {
   "interpreter": {
    "hash": "44c4f38e285b8bb4a0d7d6c1a5057dea98144049ee050a3afa8925692303b023"
   }
  }
 },
 "nbformat": 4,
 "nbformat_minor": 2
}

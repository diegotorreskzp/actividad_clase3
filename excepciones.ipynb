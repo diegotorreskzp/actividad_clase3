{
 "cells": [
  {
   "cell_type": "markdown",
   "metadata": {},
   "source": [
    "# Excepciones"
   ]
  },
  {
   "cell_type": "markdown",
   "metadata": {},
   "source": [
    "+ \"except: Exception\" = Trata CUALQUIER tipo de excepción."
   ]
  },
  {
   "cell_type": "code",
   "execution_count": 3,
   "metadata": {},
   "outputs": [
    {
     "name": "stdout",
     "output_type": "stream",
     "text": [
      "Error.\n"
     ]
    }
   ],
   "source": [
    "try: \n",
    "    division = 10/0\n",
    "    print(division)\n",
    "except Exception:\n",
    "    print('Error')"
   ]
  },
  {
   "cell_type": "markdown",
   "metadata": {},
   "source": [
    "+ AttributeError = Intento utilizar un método para strings a un tipo de dato entero.\n",
    "+ Básicamente se produce cuando intento utilizar un método para un tipo de dato para el cual no está hecho ese método."
   ]
  },
  {
   "cell_type": "code",
   "execution_count": 6,
   "metadata": {},
   "outputs": [
    {
     "name": "stdout",
     "output_type": "stream",
     "text": [
      "Error\n"
     ]
    }
   ],
   "source": [
    "try:\n",
    "    entero = 2\n",
    "    entero.upper()\n",
    "except AttributeError:\n",
    "    print('Error')"
   ]
  },
  {
   "cell_type": "markdown",
   "metadata": {},
   "source": [
    "+ IndexError: Índice de error. Llamar a un elemento que no existe."
   ]
  },
  {
   "cell_type": "code",
   "execution_count": 9,
   "metadata": {},
   "outputs": [
    {
     "name": "stdout",
     "output_type": "stream",
     "text": [
      "Error\n"
     ]
    }
   ],
   "source": [
    "try: \n",
    "    mi_lista = [1,2,3]\n",
    "    print(mi_lista[5])\n",
    "except IndexError:\n",
    "    print('Error')"
   ]
  },
  {
   "cell_type": "markdown",
   "metadata": {},
   "source": [
    "+ KeyError: Intento buscar una clave que no existe en un diccionario."
   ]
  },
  {
   "cell_type": "code",
   "execution_count": 13,
   "metadata": {},
   "outputs": [
    {
     "name": "stdout",
     "output_type": "stream",
     "text": [
      "Error\n"
     ]
    }
   ],
   "source": [
    "try:\n",
    "    diccionario = {\n",
    "        \"nombre\":\"Diego\",\n",
    "        \"apellido\":\"Torres\"\n",
    "    }\n",
    "    print(diccionario[\"edad\"])\n",
    "except KeyError:\n",
    "    print('Error')"
   ]
  },
  {
   "cell_type": "markdown",
   "metadata": {},
   "source": [
    "+ SyntaxError: Error de sintaxis en el código, por ejemplo, olvidarme una coma, un dos puntos, etc."
   ]
  },
  {
   "cell_type": "code",
   "execution_count": 18,
   "metadata": {},
   "outputs": [],
   "source": [
    "num = 5\n",
    "if num>6:\n",
    "    ('Es mayor')\n"
   ]
  },
  {
   "cell_type": "markdown",
   "metadata": {},
   "source": [
    "+ TypeError: Intentar hacer una operación matemática con un valor que no es un número."
   ]
  },
  {
   "cell_type": "code",
   "execution_count": 24,
   "metadata": {},
   "outputs": [
    {
     "name": "stdout",
     "output_type": "stream",
     "text": [
      "Error\n"
     ]
    }
   ],
   "source": [
    "try: \n",
    "    palabra1 = 'Diego'\n",
    "    palabra2 = 'Torres'\n",
    "    resultado = palabra1 - palabra2\n",
    "except TypeError:\n",
    "    print('Error')\n"
   ]
  },
  {
   "cell_type": "markdown",
   "metadata": {},
   "source": [
    "+ Escribir una función que solicite al usuario ingresar su edad. Debe manejar la excepción que ocurre si el usuario ingresa un valor que no es un número entero y también debes asegurarte de que la edad sea un valor positivo."
   ]
  },
  {
   "cell_type": "code",
   "execution_count": 49,
   "metadata": {},
   "outputs": [
    {
     "name": "stdout",
     "output_type": "stream",
     "text": [
      "Por favor, ingrese un número válido.\n"
     ]
    }
   ],
   "source": [
    "def ingreso():\n",
    "    try:\n",
    "        edad = int(input('Ingrese su edad: '))\n",
    "        if edad<=0:\n",
    "            print('Por favor, ingrese un número válido.')\n",
    "            ingreso()\n",
    "    except ValueError:\n",
    "        print('Por favor, ingrese un número válido.')\n",
    "        ingreso()\n",
    "ingreso()"
   ]
  },
  {
   "cell_type": "markdown",
   "metadata": {},
   "source": [
    "+ Escribir una función que solicite al usuario un índice para acceder a un elemento en una lista predefinida. Deben manejar la excepción que ocurre si el índice está fuera del rango de la lista."
   ]
  },
  {
   "cell_type": "code",
   "execution_count": 47,
   "metadata": {},
   "outputs": [
    {
     "name": "stdout",
     "output_type": "stream",
     "text": [
      "Debe ingresar un número válido.\n",
      "Debe ingresar un número válido.\n",
      "El índice no se encuentra en la lista.\n"
     ]
    }
   ],
   "source": [
    "lista_predefinida = [1,2,3,4,5]\n",
    "def solicitar_indice():\n",
    "    try: \n",
    "        indice = int(input('Ingrese el índice: '))\n",
    "        print(lista_predefinida[indice])\n",
    "    except ValueError:\n",
    "        print('Debe ingresar un número válido.')\n",
    "        solicitar_indice()\n",
    "    except IndexError:\n",
    "        print('El índice no se encuentra en la lista.')\n",
    "solicitar_indice()"
   ]
  }
 ],
 "metadata": {
  "kernelspec": {
   "display_name": "Python 3.8.9 64-bit",
   "language": "python",
   "name": "python3"
  },
  "language_info": {
   "codemirror_mode": {
    "name": "ipython",
    "version": 3
   },
   "file_extension": ".py",
   "mimetype": "text/x-python",
   "name": "python",
   "nbconvert_exporter": "python",
   "pygments_lexer": "ipython3",
   "version": "3.8.9"
  },
  "orig_nbformat": 4,
  "vscode": {
   "interpreter": {
    "hash": "44c4f38e285b8bb4a0d7d6c1a5057dea98144049ee050a3afa8925692303b023"
   }
  }
 },
 "nbformat": 4,
 "nbformat_minor": 2
}
